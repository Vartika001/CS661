{
 "cells": [
  {
   "cell_type": "code",
   "execution_count": 1,
   "metadata": {},
   "outputs": [],
   "source": [
    "import vtk\n",
    "import ipywidgets as widgets\n",
    "from IPython.display import display\n",
    "\n",
    "# Read data from an XML image file\n",
    "reader = vtk.vtkXMLImageDataReader()\n",
    "reader.SetFileName(\"./mixture.vti\")\n",
    "reader.Update()\n",
    "\n",
    "# Extract data from the reader\n",
    "data = reader.GetOutput()"
   ]
  },
  {
   "cell_type": "code",
   "execution_count": 2,
   "metadata": {},
   "outputs": [],
   "source": [
    "# Initialize lists to store coordinates and scalar values\n",
    "x=[]\n",
    "y=[]\n",
    "z=[]\n",
    "values=[]"
   ]
  },
  {
   "cell_type": "code",
   "execution_count": 3,
   "metadata": {},
   "outputs": [],
   "source": [
    "# iterate thruogh the data to extract coordinates and scalar values\n",
    "for i in range(0,75):\n",
    "    for j in range(0,75):\n",
    "        for k in range(0,75):\n",
    "            x.append(i)\n",
    "            y.append(j)\n",
    "            z.append(k)\n",
    "            values.append(data.GetScalarComponentAsDouble(i,j,k,0))"
   ]
  },
  {
   "cell_type": "code",
   "execution_count": 4,
   "metadata": {},
   "outputs": [],
   "source": [
    "import plotly.graph_objects as go\n",
    "initial_isovalue=0\n",
    "fig= go.FigureWidget(data=go.Isosurface(        # create a Plotly figure widget for the isosurface plot\n",
    "    x=x,\n",
    "    y=y,\n",
    "    z=z,\n",
    "    value=values,\n",
    "    colorscale='plasma',\n",
    "    showscale=False,\n",
    "    isomin=initial_isovalue,\n",
    "    isomax=initial_isovalue,\n",
    "    cmin=min(values),\n",
    "    cmax=max(values)\n",
    "))\n",
    "\n",
    "\n"
   ]
  },
  {
   "cell_type": "code",
   "execution_count": 5,
   "metadata": {},
   "outputs": [],
   "source": [
    "# Create slider to control the isovalue\n",
    "slider = widgets.FloatSlider(\n",
    "    value=initial_isovalue,\n",
    "    min=min(values),\n",
    "    max=max(values),\n",
    "    step=0.01,\n",
    "    description='Isovalue:',\n",
    "    continuous_update=False\n",
    ")\n"
   ]
  },
  {
   "cell_type": "code",
   "execution_count": 6,
   "metadata": {},
   "outputs": [
    {
     "data": {
      "application/vnd.jupyter.widget-view+json": {
       "model_id": "1892c6d5fc42466ba44481d6ecacda75",
       "version_major": 2,
       "version_minor": 0
      },
      "text/plain": [
       "FigureWidget({\n",
       "    'data': [{'cmax': 0.43280163407325745,\n",
       "              'cmin': -0.9935540556907654,\n",
       "              'colorscale': [[0.0, '#0d0887'], [0.1111111111111111, '#46039f'],\n",
       "                             [0.2222222222222222, '#7201a8'], [0.3333333333333333,\n",
       "                             '#9c179e'], [0.4444444444444444, '#bd3786'],\n",
       "                             [0.5555555555555556, '#d8576b'], [0.6666666666666666,\n",
       "                             '#ed7953'], [0.7777777777777778, '#fb9f3a'],\n",
       "                             [0.8888888888888888, '#fdca26'], [1.0, '#f0f921']],\n",
       "              'isomax': 0,\n",
       "              'isomin': 0,\n",
       "              'showscale': False,\n",
       "              'type': 'isosurface',\n",
       "              'uid': '0b93b120-4ce6-479d-9488-c994bbb11b0e',\n",
       "              'value': [-0.04087147116661072, -0.020417775958776474,\n",
       "                        -0.004733099602162838, ..., -0.9426848292350769,\n",
       "                        -0.8584827780723572, -0.7285129427909851],\n",
       "              'x': [0, 0, 0, ..., 74, 74, 74],\n",
       "              'y': [0, 0, 0, ..., 74, 74, 74],\n",
       "              'z': [0, 1, 2, ..., 72, 73, 74]}],\n",
       "    'layout': {'scene': {'aspectmode': 'cube',\n",
       "                         'xaxis': {'showticklabels': False, 'title': {'text': 'X'}},\n",
       "                         'yaxis': {'showticklabels': False, 'title': {'text': 'Y'}},\n",
       "                         'zaxis': {'showticklabels': False, 'title': {'text': 'Z'}}},\n",
       "               'template': '...'}\n",
       "})"
      ]
     },
     "execution_count": 6,
     "metadata": {},
     "output_type": "execute_result"
    }
   ],
   "source": [
    "# update layout settings for the 3D scene\n",
    "fig.update_layout(scene=dict(\n",
    "        xaxis=dict(title='X', showticklabels=False),\n",
    "        yaxis=dict(title='Y', showticklabels=False),\n",
    "        zaxis=dict(title='Z', showticklabels=False),\n",
    "        aspectmode='cube',  # Ensure isotropic scaling\n",
    "        # camera=dict(\n",
    "        #     eye=dict(x=1.5, y=1.5, z=1.5)  # Set initial camera position\n",
    "        # )\n",
    "    ))"
   ]
  },
  {
   "cell_type": "code",
   "execution_count": 7,
   "metadata": {},
   "outputs": [],
   "source": [
    "# Create reset button\n",
    "reset_button = widgets.Button(description='Reset')\n",
    "# Define function to reset isovalue\n",
    "def reset_isovalue(button):\n",
    "    slider.value = 0.0\n",
    "# Link reset button and reset function\n",
    "reset_button.on_click(reset_isovalue)"
   ]
  },
  {
   "cell_type": "code",
   "execution_count": 8,
   "metadata": {},
   "outputs": [],
   "source": [
    "# Define function to update isosurface\n",
    "def update_isosurface_histogram(change):\n",
    "    fig.data[0].isomin = change.new\n",
    "    fig.data[0].isomax = change.new\n",
    "    isovalue = change.new\n",
    "    selected_data = initial_hist_data if isovalue == 0 else [x for x in initial_hist_data if (fig.data[0].isomin - 0.25) <= x <= (fig.data[0].isomin + 0.25)]\n",
    "    hist.data[0].x = selected_data\n",
    "# Link slider and update function\n",
    "slider.observe(update_isosurface_histogram, names='value')\n",
    "\n"
   ]
  },
  {
   "cell_type": "code",
   "execution_count": 9,
   "metadata": {},
   "outputs": [],
   "source": [
    "from plotly.subplots import make_subplots\n",
    "import numpy as np\n",
    "flat_values = np.array(values).flatten()"
   ]
  },
  {
   "cell_type": "code",
   "execution_count": 10,
   "metadata": {},
   "outputs": [
    {
     "data": {
      "application/vnd.jupyter.widget-view+json": {
       "model_id": "bf9bdf48f21e43168103c5829e233a2c",
       "version_major": 2,
       "version_minor": 0
      },
      "text/plain": [
       "FigureWidget({\n",
       "    'data': [{'marker': {'color': 'blue'},\n",
       "              'name': 'Value Distribution',\n",
       "              'nbinsx': 30,\n",
       "              'type': 'histogram',\n",
       "              'uid': '8f9ca5eb-876f-4cd8-8fa1-d9f45f189e90',\n",
       "              'x': array([-0.04087147, -0.02041778, -0.0047331 , ..., -0.94268483, -0.85848278,\n",
       "                          -0.72851294])}],\n",
       "    'layout': {'template': '...',\n",
       "               'xaxis': {'title': {'text': 'Vortex scalar values'}},\n",
       "               'yaxis': {'title': {'text': 'Frequency'}}}\n",
       "})"
      ]
     },
     "execution_count": 10,
     "metadata": {},
     "output_type": "execute_result"
    }
   ],
   "source": [
    "# Create initial histogram\n",
    "initial_hist_data = flat_values\n",
    "hist = go.FigureWidget(data=[go.Histogram(\n",
    "    x=initial_hist_data,\n",
    "    nbinsx=30,\n",
    "    marker=dict(color='blue'),\n",
    "    name='Value Distribution',\n",
    ")])\n",
    "hist.update_layout(yaxis=dict(title='Frequency'))\n",
    "hist.update_layout(xaxis=dict(title='Vortex scalar values'))"
   ]
  },
  {
   "cell_type": "code",
   "execution_count": 11,
   "metadata": {},
   "outputs": [],
   "source": [
    "fig.layout.width = 500  # Set the width to 800 pixels\n",
    "fig.layout.height = 500  # Set the height to 600 pixels\n",
    "\n",
    "# Customize the layout of the Histogram (hist)\n",
    "hist.layout.width = 500  # Set the width to 800 pixels\n",
    "hist.layout.height = 400  # Set the height to 300 pixels"
   ]
  },
  {
   "cell_type": "code",
   "execution_count": 12,
   "metadata": {},
   "outputs": [
    {
     "data": {
      "application/vnd.jupyter.widget-view+json": {
       "model_id": "ac7df96edcf74601bb13908fdcf1ae91",
       "version_major": 2,
       "version_minor": 0
      },
      "text/plain": [
       "VBox(children=(HBox(children=(FloatSlider(value=0.0, continuous_update=False, description='Isovalue:', max=0.4…"
      ]
     },
     "metadata": {},
     "output_type": "display_data"
    }
   ],
   "source": [
    "# Display slider and isosurface\n",
    "display(widgets.VBox([widgets.HBox([slider, reset_button]), widgets.HBox([fig,hist])]))"
   ]
  }
 ],
 "metadata": {
  "kernelspec": {
   "display_name": "Python 3",
   "language": "python",
   "name": "python3"
  },
  "language_info": {
   "codemirror_mode": {
    "name": "ipython",
    "version": 3
   },
   "file_extension": ".py",
   "mimetype": "text/x-python",
   "name": "python",
   "nbconvert_exporter": "python",
   "pygments_lexer": "ipython3",
   "version": "3.7.16"
  },
  "orig_nbformat": 4,
  "vscode": {
   "interpreter": {
    "hash": "916dbcbb3f70747c44a77c7bcd40155683ae19c65e1c03b4aa3499c5328201f1"
   }
  }
 },
 "nbformat": 4,
 "nbformat_minor": 2
}
